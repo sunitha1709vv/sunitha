{
 "cells": [
  {
   "cell_type": "code",
   "execution_count": 1,
   "id": "2a52bc9d",
   "metadata": {},
   "outputs": [],
   "source": [
    "import pandas as pd\n",
    "data = pd.read_csv(r\"C:\\Users\\hp\\Downloads\\data science\\multiple regression.csv\")"
   ]
  },
  {
   "cell_type": "code",
   "execution_count": 2,
   "id": "72ff8bb7",
   "metadata": {},
   "outputs": [
    {
     "data": {
      "text/html": [
       "<div>\n",
       "<style scoped>\n",
       "    .dataframe tbody tr th:only-of-type {\n",
       "        vertical-align: middle;\n",
       "    }\n",
       "\n",
       "    .dataframe tbody tr th {\n",
       "        vertical-align: top;\n",
       "    }\n",
       "\n",
       "    .dataframe thead th {\n",
       "        text-align: right;\n",
       "    }\n",
       "</style>\n",
       "<table border=\"1\" class=\"dataframe\">\n",
       "  <thead>\n",
       "    <tr style=\"text-align: right;\">\n",
       "      <th></th>\n",
       "      <th>Gender</th>\n",
       "      <th>Age</th>\n",
       "      <th>Payment Method</th>\n",
       "      <th>Churn</th>\n",
       "      <th>LastTransaction</th>\n",
       "      <th>Gender_d</th>\n",
       "      <th>Age.1</th>\n",
       "      <th>Payment_d</th>\n",
       "      <th>Churn_d</th>\n",
       "    </tr>\n",
       "  </thead>\n",
       "  <tbody>\n",
       "    <tr>\n",
       "      <th>0</th>\n",
       "      <td>male</td>\n",
       "      <td>64</td>\n",
       "      <td>credit card</td>\n",
       "      <td>loyal</td>\n",
       "      <td>98</td>\n",
       "      <td>0</td>\n",
       "      <td>64</td>\n",
       "      <td>0</td>\n",
       "      <td>0</td>\n",
       "    </tr>\n",
       "    <tr>\n",
       "      <th>1</th>\n",
       "      <td>male</td>\n",
       "      <td>35</td>\n",
       "      <td>cheque</td>\n",
       "      <td>churn</td>\n",
       "      <td>118</td>\n",
       "      <td>0</td>\n",
       "      <td>35</td>\n",
       "      <td>1</td>\n",
       "      <td>1</td>\n",
       "    </tr>\n",
       "    <tr>\n",
       "      <th>2</th>\n",
       "      <td>female</td>\n",
       "      <td>25</td>\n",
       "      <td>credit card</td>\n",
       "      <td>loyal</td>\n",
       "      <td>107</td>\n",
       "      <td>1</td>\n",
       "      <td>25</td>\n",
       "      <td>0</td>\n",
       "      <td>0</td>\n",
       "    </tr>\n",
       "    <tr>\n",
       "      <th>3</th>\n",
       "      <td>male</td>\n",
       "      <td>39</td>\n",
       "      <td>credit card</td>\n",
       "      <td>loyal</td>\n",
       "      <td>90</td>\n",
       "      <td>0</td>\n",
       "      <td>39</td>\n",
       "      <td>0</td>\n",
       "      <td>0</td>\n",
       "    </tr>\n",
       "    <tr>\n",
       "      <th>4</th>\n",
       "      <td>female</td>\n",
       "      <td>28</td>\n",
       "      <td>cheque</td>\n",
       "      <td>churn</td>\n",
       "      <td>189</td>\n",
       "      <td>1</td>\n",
       "      <td>28</td>\n",
       "      <td>1</td>\n",
       "      <td>1</td>\n",
       "    </tr>\n",
       "    <tr>\n",
       "      <th>...</th>\n",
       "      <td>...</td>\n",
       "      <td>...</td>\n",
       "      <td>...</td>\n",
       "      <td>...</td>\n",
       "      <td>...</td>\n",
       "      <td>...</td>\n",
       "      <td>...</td>\n",
       "      <td>...</td>\n",
       "      <td>...</td>\n",
       "    </tr>\n",
       "    <tr>\n",
       "      <th>895</th>\n",
       "      <td>male</td>\n",
       "      <td>19</td>\n",
       "      <td>credit card</td>\n",
       "      <td>loyal</td>\n",
       "      <td>92</td>\n",
       "      <td>0</td>\n",
       "      <td>19</td>\n",
       "      <td>0</td>\n",
       "      <td>0</td>\n",
       "    </tr>\n",
       "    <tr>\n",
       "      <th>896</th>\n",
       "      <td>female</td>\n",
       "      <td>29</td>\n",
       "      <td>credit card</td>\n",
       "      <td>loyal</td>\n",
       "      <td>33</td>\n",
       "      <td>1</td>\n",
       "      <td>29</td>\n",
       "      <td>0</td>\n",
       "      <td>0</td>\n",
       "    </tr>\n",
       "    <tr>\n",
       "      <th>897</th>\n",
       "      <td>male</td>\n",
       "      <td>84</td>\n",
       "      <td>credit card</td>\n",
       "      <td>loyal</td>\n",
       "      <td>124</td>\n",
       "      <td>0</td>\n",
       "      <td>84</td>\n",
       "      <td>0</td>\n",
       "      <td>0</td>\n",
       "    </tr>\n",
       "    <tr>\n",
       "      <th>898</th>\n",
       "      <td>male</td>\n",
       "      <td>19</td>\n",
       "      <td>credit card</td>\n",
       "      <td>loyal</td>\n",
       "      <td>49</td>\n",
       "      <td>0</td>\n",
       "      <td>19</td>\n",
       "      <td>0</td>\n",
       "      <td>0</td>\n",
       "    </tr>\n",
       "    <tr>\n",
       "      <th>899</th>\n",
       "      <td>female</td>\n",
       "      <td>24</td>\n",
       "      <td>credit card</td>\n",
       "      <td>loyal</td>\n",
       "      <td>25</td>\n",
       "      <td>1</td>\n",
       "      <td>24</td>\n",
       "      <td>0</td>\n",
       "      <td>0</td>\n",
       "    </tr>\n",
       "  </tbody>\n",
       "</table>\n",
       "<p>900 rows × 9 columns</p>\n",
       "</div>"
      ],
      "text/plain": [
       "     Gender  Age Payment Method  Churn  LastTransaction  Gender_d  Age.1  \\\n",
       "0      male   64    credit card  loyal               98         0     64   \n",
       "1      male   35         cheque  churn              118         0     35   \n",
       "2    female   25    credit card  loyal              107         1     25   \n",
       "3      male   39    credit card  loyal               90         0     39   \n",
       "4    female   28         cheque  churn              189         1     28   \n",
       "..      ...  ...            ...    ...              ...       ...    ...   \n",
       "895    male   19    credit card  loyal               92         0     19   \n",
       "896  female   29    credit card  loyal               33         1     29   \n",
       "897    male   84    credit card  loyal              124         0     84   \n",
       "898    male   19    credit card  loyal               49         0     19   \n",
       "899  female   24    credit card  loyal               25         1     24   \n",
       "\n",
       "     Payment_d  Churn_d  \n",
       "0            0        0  \n",
       "1            1        1  \n",
       "2            0        0  \n",
       "3            0        0  \n",
       "4            1        1  \n",
       "..         ...      ...  \n",
       "895          0        0  \n",
       "896          0        0  \n",
       "897          0        0  \n",
       "898          0        0  \n",
       "899          0        0  \n",
       "\n",
       "[900 rows x 9 columns]"
      ]
     },
     "execution_count": 2,
     "metadata": {},
     "output_type": "execute_result"
    }
   ],
   "source": [
    "data"
   ]
  },
  {
   "cell_type": "code",
   "execution_count": 3,
   "id": "b05fcb39",
   "metadata": {},
   "outputs": [
    {
     "name": "stderr",
     "output_type": "stream",
     "text": [
      "C:\\Users\\hp\\AppData\\Local\\Temp\\ipykernel_10012\\2627137660.py:1: FutureWarning: The default value of numeric_only in DataFrame.corr is deprecated. In a future version, it will default to False. Select only valid columns or specify the value of numeric_only to silence this warning.\n",
      "  data.corr()\n"
     ]
    },
    {
     "data": {
      "text/html": [
       "<div>\n",
       "<style scoped>\n",
       "    .dataframe tbody tr th:only-of-type {\n",
       "        vertical-align: middle;\n",
       "    }\n",
       "\n",
       "    .dataframe tbody tr th {\n",
       "        vertical-align: top;\n",
       "    }\n",
       "\n",
       "    .dataframe thead th {\n",
       "        text-align: right;\n",
       "    }\n",
       "</style>\n",
       "<table border=\"1\" class=\"dataframe\">\n",
       "  <thead>\n",
       "    <tr style=\"text-align: right;\">\n",
       "      <th></th>\n",
       "      <th>Age</th>\n",
       "      <th>LastTransaction</th>\n",
       "      <th>Gender_d</th>\n",
       "      <th>Age.1</th>\n",
       "      <th>Payment_d</th>\n",
       "      <th>Churn_d</th>\n",
       "    </tr>\n",
       "  </thead>\n",
       "  <tbody>\n",
       "    <tr>\n",
       "      <th>Age</th>\n",
       "      <td>1.000000</td>\n",
       "      <td>0.302295</td>\n",
       "      <td>-0.024784</td>\n",
       "      <td>1.000000</td>\n",
       "      <td>0.091954</td>\n",
       "      <td>0.179804</td>\n",
       "    </tr>\n",
       "    <tr>\n",
       "      <th>LastTransaction</th>\n",
       "      <td>0.302295</td>\n",
       "      <td>1.000000</td>\n",
       "      <td>0.207216</td>\n",
       "      <td>0.302295</td>\n",
       "      <td>0.268922</td>\n",
       "      <td>0.314502</td>\n",
       "    </tr>\n",
       "    <tr>\n",
       "      <th>Gender_d</th>\n",
       "      <td>-0.024784</td>\n",
       "      <td>0.207216</td>\n",
       "      <td>1.000000</td>\n",
       "      <td>-0.024784</td>\n",
       "      <td>-0.025570</td>\n",
       "      <td>0.569976</td>\n",
       "    </tr>\n",
       "    <tr>\n",
       "      <th>Age.1</th>\n",
       "      <td>1.000000</td>\n",
       "      <td>0.302295</td>\n",
       "      <td>-0.024784</td>\n",
       "      <td>1.000000</td>\n",
       "      <td>0.091954</td>\n",
       "      <td>0.179804</td>\n",
       "    </tr>\n",
       "    <tr>\n",
       "      <th>Payment_d</th>\n",
       "      <td>0.091954</td>\n",
       "      <td>0.268922</td>\n",
       "      <td>-0.025570</td>\n",
       "      <td>0.091954</td>\n",
       "      <td>1.000000</td>\n",
       "      <td>0.140606</td>\n",
       "    </tr>\n",
       "    <tr>\n",
       "      <th>Churn_d</th>\n",
       "      <td>0.179804</td>\n",
       "      <td>0.314502</td>\n",
       "      <td>0.569976</td>\n",
       "      <td>0.179804</td>\n",
       "      <td>0.140606</td>\n",
       "      <td>1.000000</td>\n",
       "    </tr>\n",
       "  </tbody>\n",
       "</table>\n",
       "</div>"
      ],
      "text/plain": [
       "                      Age  LastTransaction  Gender_d     Age.1  Payment_d  \\\n",
       "Age              1.000000         0.302295 -0.024784  1.000000   0.091954   \n",
       "LastTransaction  0.302295         1.000000  0.207216  0.302295   0.268922   \n",
       "Gender_d        -0.024784         0.207216  1.000000 -0.024784  -0.025570   \n",
       "Age.1            1.000000         0.302295 -0.024784  1.000000   0.091954   \n",
       "Payment_d        0.091954         0.268922 -0.025570  0.091954   1.000000   \n",
       "Churn_d          0.179804         0.314502  0.569976  0.179804   0.140606   \n",
       "\n",
       "                  Churn_d  \n",
       "Age              0.179804  \n",
       "LastTransaction  0.314502  \n",
       "Gender_d         0.569976  \n",
       "Age.1            0.179804  \n",
       "Payment_d        0.140606  \n",
       "Churn_d          1.000000  "
      ]
     },
     "execution_count": 3,
     "metadata": {},
     "output_type": "execute_result"
    }
   ],
   "source": [
    "data.corr()"
   ]
  },
  {
   "cell_type": "code",
   "execution_count": 5,
   "id": "a5088631",
   "metadata": {},
   "outputs": [],
   "source": [
    "import seaborn as sns"
   ]
  },
  {
   "cell_type": "code",
   "execution_count": 8,
   "id": "ea3f2fc3",
   "metadata": {},
   "outputs": [
    {
     "name": "stderr",
     "output_type": "stream",
     "text": [
      "C:\\Users\\hp\\AppData\\Local\\Temp\\ipykernel_10012\\3504156034.py:1: FutureWarning: The default value of numeric_only in DataFrame.corr is deprecated. In a future version, it will default to False. Select only valid columns or specify the value of numeric_only to silence this warning.\n",
      "  sns.heatmap(data.corr(),cmap = \"Oranges\")\n"
     ]
    },
    {
     "data": {
      "text/plain": [
       "<Axes: >"
      ]
     },
     "execution_count": 8,
     "metadata": {},
     "output_type": "execute_result"
    },
    {
     "data": {
      "image/png": "[encoded data removed]",
      "text/plain": [
       "<Figure size 640x480 with 2 Axes>"
      ]
     },
     "metadata": {},
     "output_type": "display_data"
    }
   ],
   "source": [
    "sns.heatmap(data.corr(),cmap = \"Oranges\")"
   ]
  },
  {
   "cell_type": "code",
   "execution_count": 9,
   "id": "afe9ca8d",
   "metadata": {},
   "outputs": [
    {
     "name": "stderr",
     "output_type": "stream",
     "text": [
      "C:\\Users\\hp\\AppData\\Local\\Temp\\ipykernel_10012\\1283059003.py:1: FutureWarning: The default value of numeric_only in DataFrame.corr is deprecated. In a future version, it will default to False. Select only valid columns or specify the value of numeric_only to silence this warning.\n",
      "  sns.heatmap(data.corr(),annot = True, cmap = \"Oranges\")\n"
     ]
    },
    {
     "data": {
      "text/plain": [
       "<Axes: >"
      ]
     },
     "execution_count": 9,
     "metadata": {},
     "output_type": "execute_result"
    },
    {
     "data": {
      "image/png": "[encoded data removed]",
      "text/plain": [
       "<Figure size 640x480 with 2 Axes>"
      ]
     },
     "metadata": {},
     "output_type": "display_data"
    }
   ],
   "source": [
    "sns.heatmap(data.corr(),annot = True, cmap = \"Oranges\")"
   ]
  },
  {
   "cell_type": "code",
   "execution_count": 10,
   "id": "39b41169",
   "metadata": {},
   "outputs": [
    {
     "data": {
      "text/plain": [
       "<Axes: xlabel='Churn', ylabel='count'>"
      ]
     },
     "execution_count": 10,
     "metadata": {},
     "output_type": "execute_result"
    },
    {
     "data": {
      "image/png": "[encoded data removed]",
      "text/plain": [
       "<Figure size 640x480 with 1 Axes>"
      ]
     },
     "metadata": {},
     "output_type": "display_data"
    }
   ],
   "source": [
    "sns.countplot(data=data, x='Churn', hue='Payment Method',saturation=1 , palette='Purples')"
   ]
  },
  {
   "cell_type": "code",
   "execution_count": 11,
   "id": "baedbfa8",
   "metadata": {},
   "outputs": [],
   "source": [
    "#modelling\n",
    "X = data.iloc[:, 4:8].values #0,1,2,3,(4,5,6,7) cols , independent var\n",
    "y = data.iloc[:, 8:9].values #(8) cols , dependent var"
   ]
  },
  {
   "cell_type": "markdown",
   "id": "5fb47cf2",
   "metadata": {},
   "source": [
    "\n",
    "X = data.iloc[:, 4:8].values #0,1,2,3,(4,5,6,7) cols , independent var\n",
    "this line selects columns with index positions 4,5,6,7 from the dataframe data : beofore the comma repsrents all rows in this column are selected .the resluting data frame containing the independent variable (features) and ait is assighned to x.\n",
    "\n",
    "\n",
    "y= data.iloc[:, 8:9].values #(8) cols , dependent var\n",
    "\n",
    "this column 8 th select the column before the comma represnts te all rows in this column.\n",
    "\n",
    "the resulting data frame containing our dependent or target variable and it is assighning to the variable y\n",
    "\n",
    "\n"
   ]
  },
  {
   "cell_type": "code",
   "execution_count": 12,
   "id": "3e740cc5",
   "metadata": {},
   "outputs": [
    {
     "name": "stdout",
     "output_type": "stream",
     "text": [
      "                                 OLS Regression Results                                \n",
      "=======================================================================================\n",
      "Dep. Variable:                      y   R-squared (uncentered):                   0.596\n",
      "Model:                            OLS   Adj. R-squared (uncentered):              0.594\n",
      "Method:                 Least Squares   F-statistic:                              330.7\n",
      "Date:                Fri, 04 Aug 2023   Prob (F-statistic):                   9.75e-175\n",
      "Time:                        08:18:56   Log-Likelihood:                         -406.43\n",
      "No. Observations:                 900   AIC:                                      820.9\n",
      "Df Residuals:                     896   BIC:                                      840.1\n",
      "Df Model:                           4                                                  \n",
      "Covariance Type:            nonrobust                                                  \n",
      "==============================================================================\n",
      "                 coef    std err          t      P>|t|      [0.025      0.975]\n",
      "------------------------------------------------------------------------------\n",
      "x1             0.0005      0.000      1.741      0.082   -6.13e-05       0.001\n",
      "x2             0.5025      0.026     19.422      0.000       0.452       0.553\n",
      "x3             0.0014      0.001      2.391      0.017       0.000       0.003\n",
      "x4             0.0549      0.015      3.726      0.000       0.026       0.084\n",
      "==============================================================================\n",
      "Omnibus:                        9.596   Durbin-Watson:                   1.949\n",
      "Prob(Omnibus):                  0.008   Jarque-Bera (JB):                8.805\n",
      "Skew:                           0.193   Prob(JB):                       0.0122\n",
      "Kurtosis:                       2.707   Cond. No.                         261.\n",
      "==============================================================================\n",
      "\n",
      "Notes:\n",
      "[1] R² is computed without centering (uncentered) since the model does not contain a constant.\n",
      "[2] Standard Errors assume that the covariance matrix of the errors is correctly specified.\n"
     ]
    }
   ],
   "source": [
    "import statsmodels.api as sm\n",
    "model = sm.OLS(y,X).fit()\n",
    "print(model.summary())"
   ]
  },
  {
   "cell_type": "markdown",
   "id": "4b2d39e6",
   "metadata": {},
   "source": [
    "#VI\n",
    "\n",
    "ols or ordinary least square model assumes that the analysis is fitting a model of relationship between one or more explantory vriable and counitues or atleast interval outcome variable that minimises the sum of squares of errors where an error is the diffrence between the actual and predicted values of the outcome variable.the most common analytical method is utilises the ols model is lieniear rgreessions.(with a single or multipe predicted variable)"
   ]
  },
  {
   "cell_type": "markdown",
   "id": "6d688ac4",
   "metadata": {},
   "source": [
    "the output shows the result of an ordinary model of regression analysis .it estimates the coefficients of the linear equations \n",
    "to model the relationship between te dependent variable and independant variable x1 x2 and x3\n",
    "\n",
    "R2 is the coeffient of the determination (R^2 (r squared)method ) \n",
    "\n",
    "shift 6 \n",
    "\n",
    "that represnts the proportion of the variance in the dependent variable y that is explained by the independeent variable\n",
    "\n",
    "an r2 values is 0.59 means that approximately 59.6 percent of te variance in y is expained by the indepndent variable.\n",
    "\n",
    "adjusted r2 is (to understand) means that the volumn  \n",
    "adjusted r2 mean by penalising the inlusion of variables unncessary independent variables.\n",
    "\n",
    "Adjusted R-squared addresses this issue by penalizing the inclusion of unnecessary independent variables in the model. It takes into account the number of independent variables and the number of observations in the data."
   ]
  },
  {
   "cell_type": "code",
   "execution_count": 22,
   "id": "09c4850d",
   "metadata": {},
   "outputs": [],
   "source": [
    "from sklearn.model_selection import train_test_split\n",
    "X_train, X_test, y_train, y_test = train_test_split(X, y, test_size = .25, random_state = 10)"
   ]
  },
  {
   "cell_type": "markdown",
   "id": "afc35e96",
   "metadata": {},
   "source": [
    "test _size  0 25 means 25 % of the data is covered in testing the model and remaining 75% of the data is covered in training te model.\n",
    "trian _tst -split\n",
    "it is used to evaluate performance of a model on unseen data it involves spliting the datset into train  set and test set .the model is trained on training set and then evaluated on the test set.to assess its generakisation capability and to avois overfitting\n"
   ]
  },
  {
   "cell_type": "code",
   "execution_count": 23,
   "id": "5dbef931",
   "metadata": {},
   "outputs": [
    {
     "data": {
      "text/html": [
       "<style>#sk-container-id-2 {color: black;background-color: white;}#sk-container-id-2 pre{padding: 0;}#sk-container-id-2 div.sk-toggleable {background-color: white;}#sk-container-id-2 label.sk-toggleable__label {cursor: pointer;display: block;width: 100%;margin-bottom: 0;padding: 0.3em;box-sizing: border-box;text-align: center;}#sk-container-id-2 label.sk-toggleable__label-arrow:before {content: \"▸\";float: left;margin-right: 0.25em;color: #696969;}#sk-container-id-2 label.sk-toggleable__label-arrow:hover:before {color: black;}#sk-container-id-2 div.sk-estimator:hover label.sk-toggleable__label-arrow:before {color: black;}#sk-container-id-2 div.sk-toggleable__content {max-height: 0;max-width: 0;overflow: hidden;text-align: left;background-color: #f0f8ff;}#sk-container-id-2 div.sk-toggleable__content pre {margin: 0.2em;color: black;border-radius: 0.25em;background-color: #f0f8ff;}#sk-container-id-2 input.sk-toggleable__control:checked~div.sk-toggleable__content {max-height: 200px;max-width: 100%;overflow: auto;}#sk-container-id-2 input.sk-toggleable__control:checked~label.sk-toggleable__label-arrow:before {content: \"▾\";}#sk-container-id-2 div.sk-estimator input.sk-toggleable__control:checked~label.sk-toggleable__label {background-color: #d4ebff;}#sk-container-id-2 div.sk-label input.sk-toggleable__control:checked~label.sk-toggleable__label {background-color: #d4ebff;}#sk-container-id-2 input.sk-hidden--visually {border: 0;clip: rect(1px 1px 1px 1px);clip: rect(1px, 1px, 1px, 1px);height: 1px;margin: -1px;overflow: hidden;padding: 0;position: absolute;width: 1px;}#sk-container-id-2 div.sk-estimator {font-family: monospace;background-color: #f0f8ff;border: 1px dotted black;border-radius: 0.25em;box-sizing: border-box;margin-bottom: 0.5em;}#sk-container-id-2 div.sk-estimator:hover {background-color: #d4ebff;}#sk-container-id-2 div.sk-parallel-item::after {content: \"\";width: 100%;border-bottom: 1px solid gray;flex-grow: 1;}#sk-container-id-2 div.sk-label:hover label.sk-toggleable__label {background-color: #d4ebff;}#sk-container-id-2 div.sk-serial::before {content: \"\";position: absolute;border-left: 1px solid gray;box-sizing: border-box;top: 0;bottom: 0;left: 50%;z-index: 0;}#sk-container-id-2 div.sk-serial {display: flex;flex-direction: column;align-items: center;background-color: white;padding-right: 0.2em;padding-left: 0.2em;position: relative;}#sk-container-id-2 div.sk-item {position: relative;z-index: 1;}#sk-container-id-2 div.sk-parallel {display: flex;align-items: stretch;justify-content: center;background-color: white;position: relative;}#sk-container-id-2 div.sk-item::before, #sk-container-id-2 div.sk-parallel-item::before {content: \"\";position: absolute;border-left: 1px solid gray;box-sizing: border-box;top: 0;bottom: 0;left: 50%;z-index: -1;}#sk-container-id-2 div.sk-parallel-item {display: flex;flex-direction: column;z-index: 1;position: relative;background-color: white;}#sk-container-id-2 div.sk-parallel-item:first-child::after {align-self: flex-end;width: 50%;}#sk-container-id-2 div.sk-parallel-item:last-child::after {align-self: flex-start;width: 50%;}#sk-container-id-2 div.sk-parallel-item:only-child::after {width: 0;}#sk-container-id-2 div.sk-dashed-wrapped {border: 1px dashed gray;margin: 0 0.4em 0.5em 0.4em;box-sizing: border-box;padding-bottom: 0.4em;background-color: white;}#sk-container-id-2 div.sk-label label {font-family: monospace;font-weight: bold;display: inline-block;line-height: 1.2em;}#sk-container-id-2 div.sk-label-container {text-align: center;}#sk-container-id-2 div.sk-container {/* jupyter's `normalize.less` sets `[hidden] { display: none; }` but bootstrap.min.css set `[hidden] { display: none !important; }` so we also need the `!important` here to be able to override the default hidden behavior on the sphinx rendered scikit-learn.org. See: https://github.com/scikit-learn/scikit-learn/issues/21755 */display: inline-block !important;position: relative;}#sk-container-id-2 div.sk-text-repr-fallback {display: none;}</style><div id=\"sk-container-id-2\" class=\"sk-top-container\"><div class=\"sk-text-repr-fallback\"><pre>LinearRegression()</pre><b>In a Jupyter environment, please rerun this cell to show the HTML representation or trust the notebook. <br />On GitHub, the HTML representation is unable to render, please try loading this page with nbviewer.org.</b></div><div class=\"sk-container\" hidden><div class=\"sk-item\"><div class=\"sk-estimator sk-toggleable\"><input class=\"sk-toggleable__control sk-hidden--visually\" id=\"sk-estimator-id-2\" type=\"checkbox\" checked><label for=\"sk-estimator-id-2\" class=\"sk-toggleable__label sk-toggleable__label-arrow\">LinearRegression</label><div class=\"sk-toggleable__content\"><pre>LinearRegression()</pre></div></div></div></div></div>"
      ],
      "text/plain": [
       "LinearRegression()"
      ]
     },
     "execution_count": 23,
     "metadata": {},
     "output_type": "execute_result"
    }
   ],
   "source": [
    "\n",
    "from sklearn.linear_model import LinearRegression\n",
    "regressor = LinearRegression()\n",
    "regressor.fit(X_train, y_train)"
   ]
  },
  {
   "cell_type": "code",
   "execution_count": 24,
   "id": "dac6bf18",
   "metadata": {},
   "outputs": [
    {
     "data": {
      "text/plain": [
       "array([[0.59622406]])"
      ]
     },
     "execution_count": 24,
     "metadata": {},
     "output_type": "execute_result"
    }
   ],
   "source": [
    "regressor.score(X_test, y_test)\n",
    "y_pred = regressor.predict(X_test)\n",
    "y_pred\n",
    "prediction = regressor.predict([[73,1,59,0]])\n",
    "prediction"
   ]
  },
  {
   "cell_type": "code",
   "execution_count": null,
   "id": "cdafc8d3",
   "metadata": {},
   "outputs": [],
   "source": []
  }
 ],
 "metadata": {
  "kernelspec": {
   "display_name": "Python 3 (ipykernel)",
   "language": "python",
   "name": "python3"
  },
  "language_info": {
   "codemirror_mode": {
    "name": "ipython",
    "version": 3
   },
   "file_extension": ".py",
   "mimetype": "text/x-python",
   "name": "python",
   "nbconvert_exporter": "python",
   "pygments_lexer": "ipython3",
   "version": "3.10.9"
  }
 },
 "nbformat": 4,
 "nbformat_minor": 5
}
